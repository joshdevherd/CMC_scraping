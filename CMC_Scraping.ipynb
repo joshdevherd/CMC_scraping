{
 "cells": [
  {
   "cell_type": "code",
   "execution_count": 38,
   "id": "a7e0cf22",
   "metadata": {},
   "outputs": [
    {
     "name": "stdout",
     "output_type": "stream",
     "text": [
      "<Response [200]>\n"
     ]
    }
   ],
   "source": [
    "import requests\n",
    "from bs4 import BeautifulSoup\n",
    "import pandas as pd\n",
    "\n",
    "webpage = requests.get('https://coinmarketcap.com/')\n",
    "print(webpage)"
   ]
  },
  {
   "cell_type": "code",
   "execution_count": 20,
   "id": "23eaecd6",
   "metadata": {},
   "outputs": [
    {
     "name": "stdout",
     "output_type": "stream",
     "text": [
      "[40473.15, 2681.31, 1.0, 376.84, 0.9998, 0.7696, 89.56, 0.8108, 83.79, 70.53]\n"
     ]
    }
   ],
   "source": [
    "soup = BeautifulSoup(webpage.content, \"html.parser\")\n",
    "\n",
    "price_tag = soup.select('div.sc-131di3y-0')\n",
    "\n",
    "prices = []\n",
    "\n",
    "for price in price_tag[3:]:\n",
    "    price_text = price.get_text().strip('$').replace(',', '')\n",
    "    price_float = float(price_text)\n",
    "    prices.append(price_float)\n",
    "    \n",
    "print(prices)"
   ]
  },
  {
   "cell_type": "code",
   "execution_count": 25,
   "id": "0acc73fd",
   "metadata": {},
   "outputs": [
    {
     "name": "stdout",
     "output_type": "stream",
     "text": [
      "['Bitcoin', 'Ethereum', 'Tether', 'BNB', 'USD Coin', 'XRP', 'Terra', 'Cardano', 'Solana', 'Avalanche']\n"
     ]
    }
   ],
   "source": [
    "name_tag = soup.select('p.iworPT')\n",
    "\n",
    "names = []\n",
    "for name in name_tag[9:]:\n",
    "    name_text = name.get_text()\n",
    "    names.append(name_text)\n",
    "print(names)"
   ]
  },
  {
   "cell_type": "code",
   "execution_count": 29,
   "id": "817d0796",
   "metadata": {},
   "outputs": [
    {
     "name": "stdout",
     "output_type": "stream",
     "text": [
      "{'Name': ['Bitcoin', 'Ethereum', 'Tether', 'BNB', 'USD Coin', 'XRP', 'Terra', 'Cardano', 'Solana', 'Avalanche'], 'Price': [40473.15, 2681.31, 1.0, 376.84, 0.9998, 0.7696, 89.56, 0.8108, 83.79, 70.53]}\n"
     ]
    }
   ],
   "source": [
    "top_ten = {\"Name\": names, \"Price\": prices}\n",
    "print(top_ten)"
   ]
  },
  {
   "cell_type": "code",
   "execution_count": 31,
   "id": "b584ff27",
   "metadata": {},
   "outputs": [
    {
     "name": "stdout",
     "output_type": "stream",
     "text": [
      "        Name       Price\n",
      "0    Bitcoin  40473.1500\n",
      "1   Ethereum   2681.3100\n",
      "2     Tether      1.0000\n",
      "3        BNB    376.8400\n",
      "4   USD Coin      0.9998\n",
      "5        XRP      0.7696\n",
      "6      Terra     89.5600\n",
      "7    Cardano      0.8108\n",
      "8     Solana     83.7900\n",
      "9  Avalanche     70.5300\n"
     ]
    }
   ],
   "source": [
    "top_ten_df = pd.DataFrame.from_dict(top_ten)\n",
    "print(top_ten_df)"
   ]
  },
  {
   "cell_type": "code",
   "execution_count": 39,
   "id": "5057d6b0",
   "metadata": {},
   "outputs": [
    {
     "name": "stdout",
     "output_type": "stream",
     "text": [
      "The current price of Bitcoin is 40473.15\n",
      "The current price of Ethereum is 2681.31\n",
      "The current price of Tether is 1.0\n",
      "The current price of BNB is 376.84\n",
      "The current price of USD Coin is 0.9998\n",
      "The current price of XRP is 0.7696\n",
      "The current price of Terra is 89.56\n",
      "The current price of Cardano is 0.8108\n",
      "The current price of Solana is 83.79\n",
      "The current price of Avalanche is 70.53\n"
     ]
    }
   ],
   "source": [
    "for i in range((len(names))):\n",
    "    print(f\"The current price of {names[i]} is {prices[i]}\")"
   ]
  }
 ],
 "metadata": {
  "kernelspec": {
   "display_name": "Python 3 (ipykernel)",
   "language": "python",
   "name": "python3"
  },
  "language_info": {
   "codemirror_mode": {
    "name": "ipython",
    "version": 3
   },
   "file_extension": ".py",
   "mimetype": "text/x-python",
   "name": "python",
   "nbconvert_exporter": "python",
   "pygments_lexer": "ipython3",
   "version": "3.9.7"
  }
 },
 "nbformat": 4,
 "nbformat_minor": 5
}
